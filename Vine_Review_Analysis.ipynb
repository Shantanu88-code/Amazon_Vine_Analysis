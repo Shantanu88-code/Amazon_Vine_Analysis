{
  "nbformat": 4,
  "nbformat_minor": 0,
  "metadata": {
    "colab": {
      "name": "Vine_Review_Analysis.ipynb",
      "provenance": [],
      "collapsed_sections": [],
      "authorship_tag": "ABX9TyN30GtUeBeg7S9Yx4kItoaE",
      "include_colab_link": true
    },
    "kernelspec": {
      "name": "python3",
      "display_name": "Python 3"
    },
    "language_info": {
      "name": "python"
    }
  },
  "cells": [
    {
      "cell_type": "markdown",
      "metadata": {
        "id": "view-in-github",
        "colab_type": "text"
      },
      "source": [
        "<a href=\"https://colab.research.google.com/github/Shantanu88-code/Amazon_Vine_Analysis/blob/main/Vine_Review_Analysis.ipynb\" target=\"_parent\"><img src=\"https://colab.research.google.com/assets/colab-badge.svg\" alt=\"Open In Colab\"/></a>"
      ]
    },
    {
      "cell_type": "code",
      "execution_count": 1,
      "metadata": {
        "colab": {
          "base_uri": "https://localhost:8080/"
        },
        "id": "-elQbF6f-b9s",
        "outputId": "0dc6797d-50e6-428e-9b21-0e4b0092184e"
      },
      "outputs": [
        {
          "output_type": "stream",
          "name": "stdout",
          "text": [
            "\r0% [Working]\r            \rIgn:1 https://developer.download.nvidia.com/compute/cuda/repos/ubuntu1804/x86_64  InRelease\n",
            "\r0% [Connecting to archive.ubuntu.com] [Connecting to security.ubuntu.com] [Conn\r                                                                               \rIgn:2 https://developer.download.nvidia.com/compute/machine-learning/repos/ubuntu1804/x86_64  InRelease\n",
            "\r0% [Connecting to archive.ubuntu.com (91.189.88.152)] [Connecting to security.u\r                                                                               \rHit:3 https://developer.download.nvidia.com/compute/cuda/repos/ubuntu1804/x86_64  Release\n",
            "\r0% [Connecting to archive.ubuntu.com (91.189.88.152)] [Connecting to security.u\r0% [Release.gpg gpgv 696 B] [Connecting to archive.ubuntu.com (91.189.88.152)] \r                                                                               \rGet:4 https://cloud.r-project.org/bin/linux/ubuntu bionic-cran40/ InRelease [3,626 B]\n",
            "Hit:5 https://developer.download.nvidia.com/compute/machine-learning/repos/ubuntu1804/x86_64  Release\n",
            "Hit:6 http://archive.ubuntu.com/ubuntu bionic InRelease\n",
            "Get:7 http://ppa.launchpad.net/c2d4u.team/c2d4u4.0+/ubuntu bionic InRelease [15.9 kB]\n",
            "Get:9 http://archive.ubuntu.com/ubuntu bionic-updates InRelease [88.7 kB]\n",
            "Get:10 http://security.ubuntu.com/ubuntu bionic-security InRelease [88.7 kB]\n",
            "Get:11 https://cloud.r-project.org/bin/linux/ubuntu bionic-cran40/ Packages [73.9 kB]\n",
            "Hit:12 http://ppa.launchpad.net/cran/libgit2/ubuntu bionic InRelease\n",
            "Get:13 http://archive.ubuntu.com/ubuntu bionic-backports InRelease [74.6 kB]\n",
            "Get:15 http://ppa.launchpad.net/deadsnakes/ppa/ubuntu bionic InRelease [15.9 kB]\n",
            "Hit:16 http://ppa.launchpad.net/graphics-drivers/ppa/ubuntu bionic InRelease\n",
            "Get:17 http://ppa.launchpad.net/c2d4u.team/c2d4u4.0+/ubuntu bionic/main Sources [1,820 kB]\n",
            "Get:18 http://archive.ubuntu.com/ubuntu bionic-updates/main amd64 Packages [2,898 kB]\n",
            "Get:19 http://security.ubuntu.com/ubuntu bionic-security/restricted amd64 Packages [691 kB]\n",
            "Get:20 http://archive.ubuntu.com/ubuntu bionic-updates/universe amd64 Packages [2,229 kB]\n",
            "Get:21 http://security.ubuntu.com/ubuntu bionic-security/main amd64 Packages [2,461 kB]\n",
            "Get:22 http://ppa.launchpad.net/c2d4u.team/c2d4u4.0+/ubuntu bionic/main amd64 Packages [933 kB]\n",
            "Get:23 http://security.ubuntu.com/ubuntu bionic-security/universe amd64 Packages [1,451 kB]\n",
            "Get:24 http://ppa.launchpad.net/deadsnakes/ppa/ubuntu bionic/main amd64 Packages [45.9 kB]\n",
            "Fetched 12.9 MB in 5s (2,776 kB/s)\n",
            "Reading package lists... Done\n"
          ]
        }
      ],
      "source": [
        "import os\n",
        "# Find the latest version of spark 3.0  from http://www.apache.org/dist/spark/ and enter as the spark version\n",
        "# For example:\n",
        "# spark_version = 'spark-3.2.0'\n",
        "spark_version = 'spark-3.2.0'\n",
        "os.environ['SPARK_VERSION']=spark_version\n",
        "\n",
        "# Install Spark and Java\n",
        "!apt-get update\n",
        "!apt-get install openjdk-11-jdk-headless -qq > /dev/null\n",
        "!wget -q http://www.apache.org/dist/spark/$SPARK_VERSION/$SPARK_VERSION-bin-hadoop2.7.tgz\n",
        "!tar xf $SPARK_VERSION-bin-hadoop2.7.tgz\n",
        "!pip install -q findspark\n",
        "\n",
        "# Set Environment Variables\n",
        "import os\n",
        "os.environ[\"JAVA_HOME\"] = \"/usr/lib/jvm/java-11-openjdk-amd64\"\n",
        "os.environ[\"SPARK_HOME\"] = f\"/content/{spark_version}-bin-hadoop2.7\"\n",
        "\n",
        "# Start a SparkSession\n",
        "import findspark\n",
        "findspark.init()"
      ]
    },
    {
      "cell_type": "code",
      "source": [
        "# Download the Postgres driver that will allow Spark to interact with Postgres.\n",
        "!wget https://jdbc.postgresql.org/download/postgresql-42.2.16.jar"
      ],
      "metadata": {
        "colab": {
          "base_uri": "https://localhost:8080/"
        },
        "id": "byU89uQg_agN",
        "outputId": "3bfaf987-ad4e-4488-86a1-9119448868ee"
      },
      "execution_count": 2,
      "outputs": [
        {
          "output_type": "stream",
          "name": "stdout",
          "text": [
            "--2021-12-14 03:30:58--  https://jdbc.postgresql.org/download/postgresql-42.2.16.jar\n",
            "Resolving jdbc.postgresql.org (jdbc.postgresql.org)... 72.32.157.228, 2001:4800:3e1:1::228\n",
            "Connecting to jdbc.postgresql.org (jdbc.postgresql.org)|72.32.157.228|:443... connected.\n",
            "HTTP request sent, awaiting response... 200 OK\n",
            "Length: 1002883 (979K) [application/java-archive]\n",
            "Saving to: ‘postgresql-42.2.16.jar’\n",
            "\n",
            "postgresql-42.2.16. 100%[===================>] 979.38K  6.07MB/s    in 0.2s    \n",
            "\n",
            "2021-12-14 03:30:58 (6.07 MB/s) - ‘postgresql-42.2.16.jar’ saved [1002883/1002883]\n",
            "\n"
          ]
        }
      ]
    },
    {
      "cell_type": "code",
      "source": [
        "# Start Spark session\n",
        "from pyspark.sql import SparkSession\n",
        "spark = SparkSession.builder.appName(\"VineDataAnalysis\").getOrCreate()"
      ],
      "metadata": {
        "id": "fLas8xdX_lHC"
      },
      "execution_count": 3,
      "outputs": []
    },
    {
      "cell_type": "markdown",
      "source": [
        "## **Read and Filter Vine Dataframe**"
      ],
      "metadata": {
        "id": "rEnnPvNzRdtN"
      }
    },
    {
      "cell_type": "code",
      "source": [
        "# Read CSV Data\n",
        "from pyspark import SparkFiles\n",
        "url =\"https://module16challengebucket.s3.amazonaws.com/vine.csv\"\n",
        "spark.sparkContext.addFile(url)\n",
        "df = spark.read.csv(SparkFiles.get(\"vine.csv\"), sep=\",\", header=True, inferSchema=True)\n",
        "df.show(10)"
      ],
      "metadata": {
        "colab": {
          "base_uri": "https://localhost:8080/"
        },
        "id": "87-o0WH6_8eB",
        "outputId": "13bc0477-b082-4084-9342-10ff9b41a32b"
      },
      "execution_count": 23,
      "outputs": [
        {
          "output_type": "stream",
          "name": "stdout",
          "text": [
            "+--------------+-----------+-------------+-----------+----+-----------------+\n",
            "|     review_id|star_rating|helpful_votes|total_votes|vine|verified_purchase|\n",
            "+--------------+-----------+-------------+-----------+----+-----------------+\n",
            "|R1WBPB8MDCCN8F|          5|            0|          0|   N|                N|\n",
            "|R32M0YEWV77XG8|          5|            1|          1|   N|                Y|\n",
            "| RR8V7WR27NXJ5|          1|            0|          0|   N|                Y|\n",
            "|R1MHO5V9Z932AY|          5|            0|          0|   N|                Y|\n",
            "|R16PD71086BD2V|          5|            0|          1|   N|                N|\n",
            "|R1Z8IFGWTRWXT6|          3|            0|          0|   N|                Y|\n",
            "|R3AUMSHAW73HWN|          4|            2|          3|   N|                N|\n",
            "|R2KWDWFOHGX6FL|          5|            0|          0|   N|                Y|\n",
            "|R3H9543FWBWFBU|          5|            1|          1|   N|                Y|\n",
            "| RUANXOQ9W3OU5|          5|            0|          0|   N|                Y|\n",
            "+--------------+-----------+-------------+-----------+----+-----------------+\n",
            "only showing top 10 rows\n",
            "\n"
          ]
        }
      ]
    },
    {
      "cell_type": "code",
      "source": [
        "# Load in sql function to use columns\n",
        "from pyspark.sql.functions import col\n",
        "# Filter the data and create a new DataFrame or table to retrieve all the rows where the total_votes count is equal to or greater than 20 \n",
        "votes_df = df.filter(col(\"total_votes\") >= 20)\n",
        "votes_df.show()"
      ],
      "metadata": {
        "colab": {
          "base_uri": "https://localhost:8080/"
        },
        "id": "xeFL3d2-F4k-",
        "outputId": "8f9f8a9e-9273-4f87-d4d4-4ccb6b7257b6"
      },
      "execution_count": 24,
      "outputs": [
        {
          "output_type": "stream",
          "name": "stdout",
          "text": [
            "+--------------+-----------+-------------+-----------+----+-----------------+\n",
            "|     review_id|star_rating|helpful_votes|total_votes|vine|verified_purchase|\n",
            "+--------------+-----------+-------------+-----------+----+-----------------+\n",
            "|R1B4753QMTD8ON|          5|           32|         32|   N|                N|\n",
            "|R28BVHOEL6GCHZ|          5|           21|         21|   N|                Y|\n",
            "|R27IB4BRKO71I0|          2|           16|         20|   N|                Y|\n",
            "| RJ86OW12Y4NRL|          5|          124|        128|   N|                Y|\n",
            "|R3KRABOWCH6ZE4|          1|           48|         65|   N|                Y|\n",
            "|R1OAKARA30DIWX|          4|           83|         89|   N|                Y|\n",
            "|R36LSV4WQ4VB1K|          5|           17|         22|   N|                N|\n",
            "|R18BTOE5UGN7UA|          5|           26|         28|   N|                Y|\n",
            "|R1DXLGDSK2WMLD|          4|           22|         22|   N|                N|\n",
            "| RZG2OHQ12YYZI|          5|           30|         31|   N|                Y|\n",
            "|R1ZPBQCT4DYE4Z|          1|           45|         51|   N|                Y|\n",
            "|R16KLPJUNC9GS7|          5|           20|         21|   N|                Y|\n",
            "|R3Q0414UJO4BDO|          1|           23|         28|   N|                Y|\n",
            "| RDHDT1Z4R8IOF|          1|           18|         20|   N|                Y|\n",
            "|R10BO7KWZNBGL1|          4|           23|         24|   N|                Y|\n",
            "|R1H6DQ1UXL6K8U|          5|           86|         97|   N|                N|\n",
            "|R32OMS1LSDRCOB|          4|           27|         31|   Y|                N|\n",
            "|R1ABJ5P5XAZ9AW|          5|          174|        187|   N|                N|\n",
            "|R2RRFZ2YFSJ2OF|          5|           27|         27|   N|                Y|\n",
            "|R19G3LWRFBHDX3|          1|            4|         42|   N|                Y|\n",
            "+--------------+-----------+-------------+-----------+----+-----------------+\n",
            "only showing top 20 rows\n",
            "\n"
          ]
        }
      ]
    },
    {
      "cell_type": "code",
      "source": [
        "# Retrieve all the rows where the number of helpful_votes divided by total_votes is equal to or greater than 50%\n",
        "vote_percent_df = votes_df.filter(\"(helpful_votes/total_votes)>=0.5\")\n",
        "vote_percent_df.show()"
      ],
      "metadata": {
        "colab": {
          "base_uri": "https://localhost:8080/"
        },
        "id": "zZzo5Zb1GPIU",
        "outputId": "a6885ca0-9d43-456b-babf-2f3eef4d2b97"
      },
      "execution_count": 27,
      "outputs": [
        {
          "output_type": "stream",
          "name": "stdout",
          "text": [
            "+--------------+-----------+-------------+-----------+----+-----------------+\n",
            "|     review_id|star_rating|helpful_votes|total_votes|vine|verified_purchase|\n",
            "+--------------+-----------+-------------+-----------+----+-----------------+\n",
            "|R1B4753QMTD8ON|          5|           32|         32|   N|                N|\n",
            "|R28BVHOEL6GCHZ|          5|           21|         21|   N|                Y|\n",
            "|R27IB4BRKO71I0|          2|           16|         20|   N|                Y|\n",
            "| RJ86OW12Y4NRL|          5|          124|        128|   N|                Y|\n",
            "|R3KRABOWCH6ZE4|          1|           48|         65|   N|                Y|\n",
            "|R1OAKARA30DIWX|          4|           83|         89|   N|                Y|\n",
            "|R36LSV4WQ4VB1K|          5|           17|         22|   N|                N|\n",
            "|R18BTOE5UGN7UA|          5|           26|         28|   N|                Y|\n",
            "|R1DXLGDSK2WMLD|          4|           22|         22|   N|                N|\n",
            "| RZG2OHQ12YYZI|          5|           30|         31|   N|                Y|\n",
            "|R1ZPBQCT4DYE4Z|          1|           45|         51|   N|                Y|\n",
            "|R16KLPJUNC9GS7|          5|           20|         21|   N|                Y|\n",
            "|R3Q0414UJO4BDO|          1|           23|         28|   N|                Y|\n",
            "| RDHDT1Z4R8IOF|          1|           18|         20|   N|                Y|\n",
            "|R10BO7KWZNBGL1|          4|           23|         24|   N|                Y|\n",
            "|R1H6DQ1UXL6K8U|          5|           86|         97|   N|                N|\n",
            "|R32OMS1LSDRCOB|          4|           27|         31|   Y|                N|\n",
            "|R1ABJ5P5XAZ9AW|          5|          174|        187|   N|                N|\n",
            "|R2RRFZ2YFSJ2OF|          5|           27|         27|   N|                Y|\n",
            "| RJ0T139KDORXP|          5|           23|         24|   N|                Y|\n",
            "+--------------+-----------+-------------+-----------+----+-----------------+\n",
            "only showing top 20 rows\n",
            "\n"
          ]
        }
      ]
    },
    {
      "cell_type": "code",
      "source": [
        "# Retrieve all the rows where a review was written as part of the Vine program (paid), vine == 'Y'\n",
        "paid_review_df = vote_percent_df.filter(col(\"vine\") == \"Y\")\n",
        "paid_review_df.show()"
      ],
      "metadata": {
        "colab": {
          "base_uri": "https://localhost:8080/"
        },
        "id": "moFzfSRgI-Bm",
        "outputId": "a50f4dde-dc35-47fc-f571-f7498cdbca60"
      },
      "execution_count": 29,
      "outputs": [
        {
          "output_type": "stream",
          "name": "stdout",
          "text": [
            "+--------------+-----------+-------------+-----------+----+-----------------+\n",
            "|     review_id|star_rating|helpful_votes|total_votes|vine|verified_purchase|\n",
            "+--------------+-----------+-------------+-----------+----+-----------------+\n",
            "|R32OMS1LSDRCOB|          4|           27|         31|   Y|                N|\n",
            "|R2IPKK4I0XRCFR|          4|           16|         21|   Y|                N|\n",
            "| RXYYJ8SGI9IX6|          5|           36|         41|   Y|                N|\n",
            "|R1SAUBFC7T6JHC|          5|           73|         75|   Y|                N|\n",
            "|R329HVJKKHWSG3|          5|           59|         59|   Y|                N|\n",
            "| RZL21K50M52KW|          5|           22|         22|   Y|                N|\n",
            "|R24RC5J2D92SBE|          5|           19|         20|   Y|                N|\n",
            "|R1803HITBY7Y08|          4|           92|        104|   Y|                N|\n",
            "|R1888B8Z6QWYZ4|          4|           18|         25|   Y|                N|\n",
            "|R1S538NK2I5PRL|          5|           21|         22|   Y|                N|\n",
            "| RZDTBIS1289HJ|          5|           26|         28|   Y|                N|\n",
            "|R1MWLO2PFODMQ3|          5|           31|         32|   Y|                N|\n",
            "|R3O6EMC0ISQY92|          4|           25|         27|   Y|                N|\n",
            "|R1OGJY9TSNXXX3|          5|           19|         22|   Y|                N|\n",
            "| R3AOPWQNKJ6VE|          5|           25|         29|   Y|                N|\n",
            "|R1XJFRM9ANTVSZ|          4|           44|         46|   Y|                N|\n",
            "|R1VDF41NJMDGBT|          2|           23|         29|   Y|                N|\n",
            "|R2C0QDBA4NEEKD|          3|          173|        200|   Y|                N|\n",
            "|R3TUMV5DZL433H|          4|           29|         38|   Y|                N|\n",
            "| RVU1EA54INF9T|          5|           19|         21|   Y|                N|\n",
            "+--------------+-----------+-------------+-----------+----+-----------------+\n",
            "only showing top 20 rows\n",
            "\n"
          ]
        }
      ]
    },
    {
      "cell_type": "code",
      "source": [
        "# Retrieve all the rows where a review was written as part of the Vine program (unpaid), vine == 'N'\n",
        "unpaid_review_df = vote_percent_df.filter(col(\"vine\") == \"N\")\n",
        "unpaid_review_df.show()"
      ],
      "metadata": {
        "colab": {
          "base_uri": "https://localhost:8080/"
        },
        "id": "mkEscdPfJdCU",
        "outputId": "757112cc-916f-451d-ccb0-ed0b5d198241"
      },
      "execution_count": 30,
      "outputs": [
        {
          "output_type": "stream",
          "name": "stdout",
          "text": [
            "+--------------+-----------+-------------+-----------+----+-----------------+\n",
            "|     review_id|star_rating|helpful_votes|total_votes|vine|verified_purchase|\n",
            "+--------------+-----------+-------------+-----------+----+-----------------+\n",
            "|R1B4753QMTD8ON|          5|           32|         32|   N|                N|\n",
            "|R28BVHOEL6GCHZ|          5|           21|         21|   N|                Y|\n",
            "|R27IB4BRKO71I0|          2|           16|         20|   N|                Y|\n",
            "| RJ86OW12Y4NRL|          5|          124|        128|   N|                Y|\n",
            "|R3KRABOWCH6ZE4|          1|           48|         65|   N|                Y|\n",
            "|R1OAKARA30DIWX|          4|           83|         89|   N|                Y|\n",
            "|R36LSV4WQ4VB1K|          5|           17|         22|   N|                N|\n",
            "|R18BTOE5UGN7UA|          5|           26|         28|   N|                Y|\n",
            "|R1DXLGDSK2WMLD|          4|           22|         22|   N|                N|\n",
            "| RZG2OHQ12YYZI|          5|           30|         31|   N|                Y|\n",
            "|R1ZPBQCT4DYE4Z|          1|           45|         51|   N|                Y|\n",
            "|R16KLPJUNC9GS7|          5|           20|         21|   N|                Y|\n",
            "|R3Q0414UJO4BDO|          1|           23|         28|   N|                Y|\n",
            "| RDHDT1Z4R8IOF|          1|           18|         20|   N|                Y|\n",
            "|R10BO7KWZNBGL1|          4|           23|         24|   N|                Y|\n",
            "|R1H6DQ1UXL6K8U|          5|           86|         97|   N|                N|\n",
            "|R1ABJ5P5XAZ9AW|          5|          174|        187|   N|                N|\n",
            "|R2RRFZ2YFSJ2OF|          5|           27|         27|   N|                Y|\n",
            "| RJ0T139KDORXP|          5|           23|         24|   N|                Y|\n",
            "|R30MVK7HP2DW91|          5|           84|        124|   N|                Y|\n",
            "+--------------+-----------+-------------+-----------+----+-----------------+\n",
            "only showing top 20 rows\n",
            "\n"
          ]
        }
      ]
    },
    {
      "cell_type": "markdown",
      "source": [
        "# **Reviews** **Calculations** "
      ],
      "metadata": {
        "id": "n7NJH_kLRC2z"
      }
    },
    {
      "cell_type": "code",
      "source": [
        "# Total number of reviews\n",
        "total_reviews = vote_percent_df.count()\n",
        "total_reviews"
      ],
      "metadata": {
        "colab": {
          "base_uri": "https://localhost:8080/"
        },
        "id": "obKR5zf_KEq8",
        "outputId": "2262cd1d-e7df-4beb-ef62-d17fc907a73f"
      },
      "execution_count": 31,
      "outputs": [
        {
          "output_type": "execute_result",
          "data": {
            "text/plain": [
              "61948"
            ]
          },
          "metadata": {},
          "execution_count": 31
        }
      ]
    },
    {
      "cell_type": "code",
      "source": [
        "# Total 5 star reviews\n",
        "total_five_star_reviews = vote_percent_df.filter(col(\"star_rating\") == 5)\n",
        "total_five_star_reviews_count = total_five_star_reviews.count()\n",
        "total_five_star_reviews_count"
      ],
      "metadata": {
        "colab": {
          "base_uri": "https://localhost:8080/"
        },
        "id": "_TksKBb7Kis8",
        "outputId": "79aca524-2094-4b2f-e820-bda97bc2b4e2"
      },
      "execution_count": 32,
      "outputs": [
        {
          "output_type": "execute_result",
          "data": {
            "text/plain": [
              "32804"
            ]
          },
          "metadata": {},
          "execution_count": 32
        }
      ]
    },
    {
      "cell_type": "code",
      "source": [
        "# Total paid reviews\n",
        "total_paid_reviews = vote_percent_df.filter(\"vine =='Y'\")\n",
        "total_paid_reviews_count = total_paid_reviews.count()\n",
        "total_paid_reviews_count"
      ],
      "metadata": {
        "colab": {
          "base_uri": "https://localhost:8080/"
        },
        "id": "zN-z1NCtLaZZ",
        "outputId": "3efee07a-b07a-4581-8ebc-c1663ae9f2ac"
      },
      "execution_count": 33,
      "outputs": [
        {
          "output_type": "execute_result",
          "data": {
            "text/plain": [
              "334"
            ]
          },
          "metadata": {},
          "execution_count": 33
        }
      ]
    },
    {
      "cell_type": "code",
      "source": [
        "# Total unpaid reviews\n",
        "total_unpaid_reviews = vote_percent_df.filter(\"vine =='N'\")\n",
        "total_unpaid_reviews_count = total_unpaid_reviews.count()\n",
        "total_unpaid_reviews_count"
      ],
      "metadata": {
        "colab": {
          "base_uri": "https://localhost:8080/"
        },
        "id": "qYuaqpIdMKbu",
        "outputId": "dc2197a2-9bf8-48b0-8555-57358f504acd"
      },
      "execution_count": 34,
      "outputs": [
        {
          "output_type": "execute_result",
          "data": {
            "text/plain": [
              "61614"
            ]
          },
          "metadata": {},
          "execution_count": 34
        }
      ]
    },
    {
      "cell_type": "code",
      "source": [
        "# Total 5 star paid reviews\n",
        "five_star_paid_reviews = total_paid_reviews.filter(\"star_rating == 5\")\n",
        "five_star_paid_reviews_count = five_star_paid_reviews.count()\n",
        "five_star_paid_reviews_count"
      ],
      "metadata": {
        "colab": {
          "base_uri": "https://localhost:8080/"
        },
        "id": "1y92SuzSPEg_",
        "outputId": "6909d3b4-7a0b-4e05-8ab7-8059faccba35"
      },
      "execution_count": 39,
      "outputs": [
        {
          "output_type": "execute_result",
          "data": {
            "text/plain": [
              "139"
            ]
          },
          "metadata": {},
          "execution_count": 39
        }
      ]
    },
    {
      "cell_type": "code",
      "source": [
        "# Total 5 star unpaid reviews\n",
        "five_star_unpaid_reviews = total_unpaid_reviews.filter(\"star_rating == 5\")\n",
        "five_star_unpaid_reviews_count = five_star_unpaid_reviews.count()\n",
        "five_star_unpaid_reviews_count"
      ],
      "metadata": {
        "colab": {
          "base_uri": "https://localhost:8080/"
        },
        "id": "j5FPbhVhPci4",
        "outputId": "d549a394-9aa4-4a9a-f9e2-b2bab11f1c66"
      },
      "execution_count": 40,
      "outputs": [
        {
          "output_type": "execute_result",
          "data": {
            "text/plain": [
              "32665"
            ]
          },
          "metadata": {},
          "execution_count": 40
        }
      ]
    },
    {
      "cell_type": "code",
      "source": [
        "# Percentage of 5 star paid reviews\n",
        "paid_five_star_total_pct = (five_star_paid_reviews_count/total_five_star_reviews_count)*100\n",
        "round(paid_five_star_total_pct, 2)"
      ],
      "metadata": {
        "colab": {
          "base_uri": "https://localhost:8080/"
        },
        "id": "jfp-eeUbMXKN",
        "outputId": "fe988b7e-6d87-4441-f53e-7c427824ec3e"
      },
      "execution_count": 41,
      "outputs": [
        {
          "output_type": "execute_result",
          "data": {
            "text/plain": [
              "0.42"
            ]
          },
          "metadata": {},
          "execution_count": 41
        }
      ]
    },
    {
      "cell_type": "code",
      "source": [
        "# Percentage of 5 star unpaid reviews\n",
        "unpaid_five_star_total_pct = (five_star_unpaid_reviews_count/total_five_star_reviews_count)*100\n",
        "round(unpaid_five_star_total_pct, 2)"
      ],
      "metadata": {
        "colab": {
          "base_uri": "https://localhost:8080/"
        },
        "id": "iXtTMH6VObFK",
        "outputId": "02f6ae44-1524-46ad-ecb2-d60c9c10b5b2"
      },
      "execution_count": 42,
      "outputs": [
        {
          "output_type": "execute_result",
          "data": {
            "text/plain": [
              "99.58"
            ]
          },
          "metadata": {},
          "execution_count": 42
        }
      ]
    }
  ]
}